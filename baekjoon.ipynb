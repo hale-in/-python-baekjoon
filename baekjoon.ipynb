{
 "cells": [
  {
   "cell_type": "code",
   "execution_count": null,
   "id": "666c2559-51ca-41b3-bd98-f0dd44ad74c1",
   "metadata": {},
   "outputs": [],
   "source": [
    "def name(**kwargs):\n",
    "    for key, value in kwargs.items():\n",
    "        print(\"{0} is {1}\".format(key, value))\n",
    "        \n",
    "name(myname='chris!')"
   ]
  }
 ],
 "metadata": {
  "kernelspec": {
   "display_name": "Python 3",
   "language": "python",
   "name": "python3"
  },
  "language_info": {
   "codemirror_mode": {
    "name": "ipython",
    "version": 3
   },
   "file_extension": ".py",
   "mimetype": "text/x-python",
   "name": "python",
   "nbconvert_exporter": "python",
   "pygments_lexer": "ipython3",
   "version": "3.8.10"
  }
 },
 "nbformat": 4,
 "nbformat_minor": 5
}
